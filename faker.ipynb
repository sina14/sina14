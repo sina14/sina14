{
  "nbformat": 4,
  "nbformat_minor": 0,
  "metadata": {
    "colab": {
      "provenance": [],
      "authorship_tag": "ABX9TyPB+X4OLJg3ryNm9Jq925YQ",
      "include_colab_link": true
    },
    "kernelspec": {
      "name": "python3",
      "display_name": "Python 3"
    },
    "language_info": {
      "name": "python"
    }
  },
  "cells": [
    {
      "cell_type": "markdown",
      "metadata": {
        "id": "view-in-github",
        "colab_type": "text"
      },
      "source": [
        "<a href=\"https://colab.research.google.com/github/sina14/sina14/blob/main/faker.ipynb\" target=\"_parent\"><img src=\"https://colab.research.google.com/assets/colab-badge.svg\" alt=\"Open In Colab\"/></a>"
      ]
    },
    {
      "cell_type": "code",
      "execution_count": 1,
      "metadata": {
        "colab": {
          "base_uri": "https://localhost:8080/"
        },
        "id": "_tx9jtN3P3M6",
        "outputId": "958399bc-371e-4138-f105-5340eda2e525"
      },
      "outputs": [
        {
          "output_type": "stream",
          "name": "stdout",
          "text": [
            "Looking in indexes: https://pypi.org/simple, https://us-python.pkg.dev/colab-wheels/public/simple/\n",
            "Collecting faker\n",
            "  Downloading Faker-16.6.0-py3-none-any.whl (1.7 MB)\n",
            "\u001b[2K     \u001b[90m━━━━━━━━━━━━━━━━━━━━━━━━━━━━━━━━━━━━━━━━\u001b[0m \u001b[32m1.7/1.7 MB\u001b[0m \u001b[31m17.4 MB/s\u001b[0m eta \u001b[36m0:00:00\u001b[0m\n",
            "\u001b[?25hRequirement already satisfied: python-dateutil>=2.4 in /usr/local/lib/python3.8/dist-packages (from faker) (2.8.2)\n",
            "Requirement already satisfied: six>=1.5 in /usr/local/lib/python3.8/dist-packages (from python-dateutil>=2.4->faker) (1.15.0)\n",
            "Installing collected packages: faker\n",
            "Successfully installed faker-16.6.0\n"
          ]
        }
      ],
      "source": [
        "!pip install faker"
      ]
    },
    {
      "cell_type": "code",
      "source": [
        "from faker import Faker"
      ],
      "metadata": {
        "id": "IuGHIxwpP_rT"
      },
      "execution_count": 2,
      "outputs": []
    },
    {
      "cell_type": "code",
      "source": [
        "faker = Faker(\"en_UK\")"
      ],
      "metadata": {
        "id": "_8esR_YaP_uR"
      },
      "execution_count": 10,
      "outputs": []
    },
    {
      "cell_type": "code",
      "source": [
        "firstname = faker.first_name()\n",
        "lastname = faker.last_name()\n",
        "username = faker.user_name()\n",
        "password = faker.password()\n",
        "email = faker.email()\n",
        "job = faker.job()\n",
        "color = faker.color_name()\n",
        "website = faker.domain_name()\n",
        "phone = faker.phone_number()\n",
        "address = faker.address()"
      ],
      "metadata": {
        "id": "EoSPQ_y2P_xF"
      },
      "execution_count": 11,
      "outputs": []
    },
    {
      "cell_type": "code",
      "source": [
        "print(firstname, ' ', lastname)\n",
        "print(job, ' ', email, ' ')"
      ],
      "metadata": {
        "colab": {
          "base_uri": "https://localhost:8080/"
        },
        "id": "HwO8r2eoP_2b",
        "outputId": "9f04d6a7-8f5a-4684-bf0d-969165d4022d"
      },
      "execution_count": 12,
      "outputs": [
        {
          "output_type": "stream",
          "name": "stdout",
          "text": [
            "Kyle   Mills\n",
            "Food technologist   deborah17@example.net  \n"
          ]
        }
      ]
    },
    {
      "cell_type": "code",
      "source": [
        "print(username, ' : ', password)"
      ],
      "metadata": {
        "colab": {
          "base_uri": "https://localhost:8080/"
        },
        "id": "PcBxzOjLP_5J",
        "outputId": "d406c439-c1d2-4007-fbe3-c473963f7aba"
      },
      "execution_count": 13,
      "outputs": [
        {
          "output_type": "stream",
          "name": "stdout",
          "text": [
            "rowleypaula  :  (5itXVfwY8\n"
          ]
        }
      ]
    },
    {
      "cell_type": "code",
      "source": [
        "print(website, ' ', phone, ' ', address)"
      ],
      "metadata": {
        "colab": {
          "base_uri": "https://localhost:8080/"
        },
        "id": "Bhf7KorPP_7j",
        "outputId": "6bb384ea-e2b4-49cc-95e9-27eba8c6bb35"
      },
      "execution_count": 14,
      "outputs": [
        {
          "output_type": "stream",
          "name": "stdout",
          "text": [
            "stanley-smith.net   +443069990379   Flat 5\n",
            "Benjamin greens\n",
            "Tracyview\n",
            "L1C 0ZD\n"
          ]
        }
      ]
    },
    {
      "cell_type": "code",
      "source": [
        "print(color)"
      ],
      "metadata": {
        "colab": {
          "base_uri": "https://localhost:8080/"
        },
        "id": "VN6g7FURP_-l",
        "outputId": "5667bca3-f3ce-4755-9b6a-7d3a221840c1"
      },
      "execution_count": 15,
      "outputs": [
        {
          "output_type": "stream",
          "name": "stdout",
          "text": [
            "BlanchedAlmond\n"
          ]
        }
      ]
    },
    {
      "cell_type": "code",
      "source": [],
      "metadata": {
        "id": "i_zNL8jbQABx"
      },
      "execution_count": null,
      "outputs": []
    }
  ]
}