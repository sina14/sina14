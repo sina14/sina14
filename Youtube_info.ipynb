{
  "nbformat": 4,
  "nbformat_minor": 0,
  "metadata": {
    "colab": {
      "provenance": [],
      "authorship_tag": "ABX9TyOfSleJGNdRn3Nlh8RVlG1Q",
      "include_colab_link": true
    },
    "kernelspec": {
      "name": "python3",
      "display_name": "Python 3"
    },
    "language_info": {
      "name": "python"
    }
  },
  "cells": [
    {
      "cell_type": "markdown",
      "metadata": {
        "id": "view-in-github",
        "colab_type": "text"
      },
      "source": [
        "<a href=\"https://colab.research.google.com/github/sina14/sina14/blob/main/Youtube_info.ipynb\" target=\"_parent\"><img src=\"https://colab.research.google.com/assets/colab-badge.svg\" alt=\"Open In Colab\"/></a>"
      ]
    },
    {
      "cell_type": "code",
      "execution_count": 1,
      "metadata": {
        "colab": {
          "base_uri": "https://localhost:8080/"
        },
        "id": "mlf80et4TVoF",
        "outputId": "54454bc7-71c6-4e18-dcdc-08d468088322"
      },
      "outputs": [
        {
          "output_type": "stream",
          "name": "stdout",
          "text": [
            "Looking in indexes: https://pypi.org/simple, https://us-python.pkg.dev/colab-wheels/public/simple/\n",
            "Collecting pytube\n",
            "  Downloading pytube-12.1.2-py3-none-any.whl (57 kB)\n",
            "\u001b[2K     \u001b[90m━━━━━━━━━━━━━━━━━━━━━━━━━━━━━━━━━━━━━━━━\u001b[0m \u001b[32m57.0/57.0 KB\u001b[0m \u001b[31m1.6 MB/s\u001b[0m eta \u001b[36m0:00:00\u001b[0m\n",
            "\u001b[?25hInstalling collected packages: pytube\n",
            "Successfully installed pytube-12.1.2\n"
          ]
        }
      ],
      "source": [
        "!pip install pytube"
      ]
    },
    {
      "cell_type": "code",
      "source": [
        "from pytube import YouTube\n",
        "import numpy as np"
      ],
      "metadata": {
        "id": "KPpbEZRGTe-N"
      },
      "execution_count": 6,
      "outputs": []
    },
    {
      "cell_type": "code",
      "source": [
        "def video_info(yt):\n",
        "    print(\"Title: \", yt.length, \" Seconds.\")\n",
        "    print(\"Total Views: \", yt.views)\n",
        "    print(\"Is age restricted: \", yt.age_restricted)\n",
        "    #print(\"Video Rating: \", np.round(yt.rating, 1))\n",
        "    print(\"Thumbnail URL: \", yt.thumbnail_url)"
      ],
      "metadata": {
        "id": "YJUumPbrTfgh"
      },
      "execution_count": 16,
      "outputs": []
    },
    {
      "cell_type": "code",
      "source": [
        "link = \"https://www.youtube.com/watch?v=dyN_WtjdfpA\"\n",
        "yt = YouTube(link)"
      ],
      "metadata": {
        "id": "nuLhmj-MTfkO"
      },
      "execution_count": 17,
      "outputs": []
    },
    {
      "cell_type": "code",
      "source": [
        "video_info(yt)"
      ],
      "metadata": {
        "colab": {
          "base_uri": "https://localhost:8080/"
        },
        "id": "SlRNJvCiTfm4",
        "outputId": "e88c592d-2be2-4e03-e1dc-af3a11841822"
      },
      "execution_count": 18,
      "outputs": [
        {
          "output_type": "stream",
          "name": "stdout",
          "text": [
            "Title:  163  Seconds.\n",
            "Total Views:  36494\n",
            "Is age restricted:  False\n",
            "Thumbnail URL:  https://i.ytimg.com/vi/dyN_WtjdfpA/sddefault.jpg\n"
          ]
        }
      ]
    },
    {
      "cell_type": "code",
      "source": [
        "# Video Download"
      ],
      "metadata": {
        "id": "c9JS9GJ8TfpQ"
      },
      "execution_count": 19,
      "outputs": []
    },
    {
      "cell_type": "code",
      "source": [
        "def download_video(yt):\n",
        "    my_streams = yt.streams.filter(file_extension='mp4', only_video=True)\n",
        "    for streams in my_streams:\n",
        "        print(f\"Video itag: {streams.itag} Resolution: {streams.resolution}\")\n",
        "\n",
        "    input_tag = input(\"Enter itag Value: \")\n",
        "    video = yt.streams.get_by_itag(input_itag)\n",
        "\n",
        "    video.download()\n",
        "    print(\"Video is downloading as \", yt.title + \".mp4\")"
      ],
      "metadata": {
        "id": "9niJNd47Tfr_"
      },
      "execution_count": 22,
      "outputs": []
    },
    {
      "cell_type": "code",
      "source": [
        "download_video(yt)"
      ],
      "metadata": {
        "colab": {
          "base_uri": "https://localhost:8080/"
        },
        "id": "nVlooK_JYZbd",
        "outputId": "750f6f90-dffa-4148-e903-1f8111932ea4"
      },
      "execution_count": null,
      "outputs": [
        {
          "output_type": "stream",
          "name": "stdout",
          "text": [
            "Video itag: 137 Resolution: 1080p\n",
            "Video itag: 136 Resolution: 720p\n",
            "Video itag: 135 Resolution: 480p\n",
            "Video itag: 134 Resolution: 360p\n",
            "Video itag: 133 Resolution: 240p\n",
            "Video itag: 160 Resolution: 144p\n"
          ]
        }
      ]
    },
    {
      "cell_type": "code",
      "source": [
        "def download_audio(yt):\n",
        "    my_streams = yt.streams.filter(only_audio=True)\n",
        "    for streams in my_streams:\n",
        "        print(f\"Audio itag: {streams.itag} Quality: {streams.abr}\")\n",
        "\n",
        "    input_tag = input(\"Enter itag Value: \")\n",
        "    video = yt.streams.get_by_itag(input_itag)\n",
        "\n",
        "    audio.download()\n",
        "    print(\"Audio is downloading as \", yt.title + \".mp3\")"
      ],
      "metadata": {
        "id": "e8cAWPn-YZno"
      },
      "execution_count": null,
      "outputs": []
    },
    {
      "cell_type": "code",
      "source": [
        "download_audio(yt)"
      ],
      "metadata": {
        "id": "PMMuT_4PYZsg"
      },
      "execution_count": null,
      "outputs": []
    },
    {
      "cell_type": "code",
      "source": [],
      "metadata": {
        "id": "6PzLCpdYYZvz"
      },
      "execution_count": null,
      "outputs": []
    },
    {
      "cell_type": "code",
      "source": [
        "def download_playlist(p):\n",
        "    print(p.title)\n",
        "    for video in p.videos:\n",
        "        try:\n",
        "            video.streams.first().download(video.title)\n",
        "        except Exception as e:\n",
        "            print(e, type(e))\n",
        "    print(\"Playlist is downloaded\")"
      ],
      "metadata": {
        "id": "qBvPTfFWYZy3"
      },
      "execution_count": null,
      "outputs": []
    },
    {
      "cell_type": "code",
      "source": [
        "linkp = \"\"\n",
        "p = Playlist(link)"
      ],
      "metadata": {
        "id": "h1JcmpLdd0_5"
      },
      "execution_count": null,
      "outputs": []
    },
    {
      "cell_type": "code",
      "source": [
        "download_playlist(p)"
      ],
      "metadata": {
        "id": "6feaakIid19d"
      },
      "execution_count": null,
      "outputs": []
    },
    {
      "cell_type": "code",
      "source": [],
      "metadata": {
        "id": "Nq3ZxQaPd2nv"
      },
      "execution_count": null,
      "outputs": []
    }
  ]
}