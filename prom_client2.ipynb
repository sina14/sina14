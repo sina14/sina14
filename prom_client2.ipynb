{
  "cells": [
    {
      "cell_type": "markdown",
      "metadata": {
        "id": "view-in-github",
        "colab_type": "text"
      },
      "source": [
        "<a href=\"https://colab.research.google.com/github/sina14/sina14/blob/main/prom_client2.ipynb\" target=\"_parent\"><img src=\"https://colab.research.google.com/assets/colab-badge.svg\" alt=\"Open In Colab\"/></a>"
      ]
    },
    {
      "cell_type": "code",
      "execution_count": null,
      "id": "d10bdde9",
      "metadata": {
        "id": "d10bdde9"
      },
      "outputs": [],
      "source": [
        "from prometheus_client import Counter\n",
        "from prometheus_client import start_http_server\n",
        "from prometheus_client import Gauge\n"
      ]
    },
    {
      "cell_type": "code",
      "execution_count": null,
      "id": "fc56bd88",
      "metadata": {
        "id": "fc56bd88"
      },
      "outputs": [],
      "source": [
        "\n",
        "c = Counter('my_counter', 'This is a counter')\n",
        "c.inc()     # Increment by 1\n",
        "c.inc(1.6)  # Increment by given value"
      ]
    },
    {
      "cell_type": "code",
      "execution_count": null,
      "id": "9a929701",
      "metadata": {
        "id": "9a929701"
      },
      "outputs": [],
      "source": [
        "c.inc(0.91)"
      ]
    },
    {
      "cell_type": "code",
      "execution_count": null,
      "id": "880374e5",
      "metadata": {
        "id": "880374e5",
        "outputId": "f8d8dc3e-9b60-4ba4-e171-6703c527e39e"
      },
      "outputs": [
        {
          "data": {
            "text/plain": [
              "[Metric(my_counter, This is a counter, counter, , [])]"
            ]
          },
          "execution_count": 5,
          "metadata": {},
          "output_type": "execute_result"
        }
      ],
      "source": [
        "c.describe()"
      ]
    },
    {
      "cell_type": "code",
      "execution_count": null,
      "id": "aadd21fb",
      "metadata": {
        "id": "aadd21fb",
        "outputId": "fcee030e-8320-465e-caf1-18ca621cd83d"
      },
      "outputs": [
        {
          "data": {
            "text/plain": [
              "<bound method MetricWrapperBase.labels of prometheus_client.metrics.Counter(my_counter)>"
            ]
          },
          "execution_count": 9,
          "metadata": {},
          "output_type": "execute_result"
        }
      ],
      "source": [
        "c.labels"
      ]
    },
    {
      "cell_type": "code",
      "execution_count": null,
      "id": "c3d7ac09",
      "metadata": {
        "id": "c3d7ac09"
      },
      "outputs": [],
      "source": [
        "g = Gauge('my_inprogress_requests', 'Description of gauge')\n",
        "g.inc()      # Increment by 1"
      ]
    },
    {
      "cell_type": "code",
      "execution_count": null,
      "id": "7778efac",
      "metadata": {
        "id": "7778efac"
      },
      "outputs": [],
      "source": [
        "g.dec(10)    # Decrement by given value"
      ]
    },
    {
      "cell_type": "code",
      "execution_count": null,
      "id": "3f5fc1ff",
      "metadata": {
        "id": "3f5fc1ff"
      },
      "outputs": [],
      "source": [
        "g.set(3.14)   # Set to a given value"
      ]
    },
    {
      "cell_type": "code",
      "execution_count": null,
      "id": "8a2aa435",
      "metadata": {
        "id": "8a2aa435"
      },
      "outputs": [],
      "source": [
        "g.set_to_current_time()"
      ]
    },
    {
      "cell_type": "code",
      "execution_count": null,
      "id": "df0ffcac",
      "metadata": {
        "id": "df0ffcac",
        "outputId": "33be91b1-02ae-430c-994f-00f157bdfeea"
      },
      "outputs": [
        {
          "data": {
            "text/plain": [
              "<prometheus_client.context_managers.Timer at 0x25c956b3070>"
            ]
          },
          "execution_count": 18,
          "metadata": {},
          "output_type": "execute_result"
        }
      ],
      "source": [
        "g.time()"
      ]
    },
    {
      "cell_type": "code",
      "execution_count": null,
      "id": "f7a80fb2",
      "metadata": {
        "id": "f7a80fb2",
        "outputId": "7a3ecc33-5d91-4ce9-90e6-a0368cdeab62"
      },
      "outputs": [
        {
          "data": {
            "text/plain": [
              "<prometheus_client.context_managers.InprogressTracker at 0x25c9567af40>"
            ]
          },
          "execution_count": 20,
          "metadata": {},
          "output_type": "execute_result"
        }
      ],
      "source": [
        "g.track_inprogress()"
      ]
    },
    {
      "cell_type": "code",
      "execution_count": null,
      "id": "835af4d5",
      "metadata": {
        "id": "835af4d5"
      },
      "outputs": [],
      "source": []
    },
    {
      "cell_type": "code",
      "execution_count": null,
      "id": "f5b6bbdb",
      "metadata": {
        "id": "f5b6bbdb"
      },
      "outputs": [],
      "source": []
    },
    {
      "cell_type": "code",
      "execution_count": null,
      "id": "4782cf43",
      "metadata": {
        "id": "4782cf43"
      },
      "outputs": [],
      "source": [
        "\n",
        "\n",
        "start_http_server(8000)"
      ]
    }
  ],
  "metadata": {
    "kernelspec": {
      "display_name": "Python 3 (ipykernel)",
      "language": "python",
      "name": "python3"
    },
    "language_info": {
      "codemirror_mode": {
        "name": "ipython",
        "version": 3
      },
      "file_extension": ".py",
      "mimetype": "text/x-python",
      "name": "python",
      "nbconvert_exporter": "python",
      "pygments_lexer": "ipython3",
      "version": "3.9.13"
    },
    "colab": {
      "provenance": [],
      "include_colab_link": true
    }
  },
  "nbformat": 4,
  "nbformat_minor": 5
}