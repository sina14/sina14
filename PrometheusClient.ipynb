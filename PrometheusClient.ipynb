{
 "cells": [
  {
   "cell_type": "code",
   "execution_count": null,
   "id": "8ff0e10c",
   "metadata": {},
   "outputs": [],
   "source": [
    "!pip install prometheus-client"
   ]
  },
  {
   "cell_type": "code",
   "execution_count": 1,
   "id": "45b11481",
   "metadata": {},
   "outputs": [],
   "source": [
    "from prometheus_client import start_http_server, Summary\n",
    "import random\n",
    "import time"
   ]
  },
  {
   "cell_type": "code",
   "execution_count": null,
   "id": "3cbb8f9c",
   "metadata": {},
   "outputs": [],
   "source": [
    "REQUEST_TIME = Summary('request_processing_seconds', 'Time spent processing request')\n",
    "\n",
    "# Decorate function with metric.\n",
    "@REQUEST_TIME.time()\n",
    "def process_request(t):\n",
    "    \"\"\"A dummy function that takes some time.\"\"\"\n",
    "    time.sleep(t)\n",
    "\n",
    "if __name__ == '__main__':\n",
    "    # Start up the server to expose the metrics.\n",
    "    start_http_server(8000)\n",
    "    # Generate some requests.\n",
    "    while True:\n",
    "        process_request(random.random())"
   ]
  },
  {
   "cell_type": "markdown",
   "id": "2a95ea7a",
   "metadata": {},
   "source": [
    "## Counter"
   ]
  },
  {
   "cell_type": "code",
   "execution_count": 13,
   "id": "8ce8f33a",
   "metadata": {},
   "outputs": [],
   "source": [
    "from prometheus_client import Counter\n",
    "c = Counter('my_counter', 'This is a counter')\n",
    "c.inc()     # Increment by 1\n",
    "c.inc(1.6)  # Increment by given value"
   ]
  },
  {
   "cell_type": "code",
   "execution_count": 12,
   "id": "67792d6e",
   "metadata": {},
   "outputs": [],
   "source": [
    "c.inc(2.1)"
   ]
  },
  {
   "cell_type": "markdown",
   "id": "d71a5194",
   "metadata": {},
   "source": [
    "## Gauge"
   ]
  },
  {
   "cell_type": "code",
   "execution_count": 3,
   "id": "506174d2",
   "metadata": {},
   "outputs": [],
   "source": [
    "from prometheus_client import Gauge\n",
    "g = Gauge('my_inprogress_requests', 'Description of gauge')\n",
    "g.inc()      # Increment by 1\n",
    "g.dec(10)    # Decrement by given value\n",
    "g.set(4.2)   # Set to a given value"
   ]
  },
  {
   "cell_type": "code",
   "execution_count": 9,
   "id": "8cb0b169",
   "metadata": {},
   "outputs": [],
   "source": [
    "g.dec(1.7)"
   ]
  },
  {
   "cell_type": "markdown",
   "id": "e6116069",
   "metadata": {},
   "source": [
    "## Summary"
   ]
  },
  {
   "cell_type": "code",
   "execution_count": null,
   "id": "2996cccc",
   "metadata": {},
   "outputs": [],
   "source": [
    "from prometheus_client import Summary\n",
    "s = Summary('request_latency_seconds', 'Description of summary')\n",
    "s.observe(4.7)    # Observe 4.7 (seconds in this case)"
   ]
  },
  {
   "cell_type": "markdown",
   "id": "1f96c159",
   "metadata": {},
   "source": [
    "## Histogram"
   ]
  },
  {
   "cell_type": "code",
   "execution_count": null,
   "id": "0493afb9",
   "metadata": {},
   "outputs": [],
   "source": [
    "from prometheus_client import Histogram\n",
    "h = Histogram('request_latency_seconds', 'Description of histogram')\n",
    "h.observe(4.7)    # Observe 4.7 (seconds in this case)"
   ]
  },
  {
   "cell_type": "markdown",
   "id": "01ad03b1",
   "metadata": {},
   "source": [
    "## Info"
   ]
  },
  {
   "cell_type": "code",
   "execution_count": 8,
   "id": "34b09854",
   "metadata": {},
   "outputs": [],
   "source": [
    "from prometheus_client import Info\n",
    "i = Info('my_build_version', 'Description of info')\n",
    "i.info({'version': '1.2.3', 'buildhost': 'foo@bar'})"
   ]
  },
  {
   "cell_type": "markdown",
   "id": "ac77a128",
   "metadata": {},
   "source": [
    "## Enum"
   ]
  },
  {
   "cell_type": "code",
   "execution_count": 14,
   "id": "3c7fc141",
   "metadata": {},
   "outputs": [],
   "source": [
    "from prometheus_client import Enum\n",
    "e = Enum('my_task_state', 'Description of enum',\n",
    "        states=['starting', 'running', 'stopped'])\n",
    "e.state('running')"
   ]
  },
  {
   "cell_type": "markdown",
   "id": "65f91ed2",
   "metadata": {},
   "source": [
    "## Labels"
   ]
  },
  {
   "cell_type": "code",
   "execution_count": null,
   "id": "487ec564",
   "metadata": {},
   "outputs": [],
   "source": [
    "from prometheus_client import Counter\n",
    "c = Counter('my_requests_total', 'HTTP Failures', ['method', 'endpoint'])\n",
    "c.labels('get', '/').inc()\n",
    "c.labels('post', '/submit').inc()"
   ]
  },
  {
   "cell_type": "code",
   "execution_count": null,
   "id": "1fe5f87d",
   "metadata": {},
   "outputs": [],
   "source": [
    "from prometheus_client import Counter\n",
    "c = Counter('my_requests_total', 'HTTP Failures', ['method', 'endpoint'])\n",
    "c.labels(method='get', endpoint='/').inc()\n",
    "c.labels(method='post', endpoint='/submit').inc()"
   ]
  },
  {
   "cell_type": "markdown",
   "id": "445227a8",
   "metadata": {},
   "source": [
    "## Exporting over http"
   ]
  },
  {
   "cell_type": "code",
   "execution_count": 4,
   "id": "ab57cc1b",
   "metadata": {},
   "outputs": [],
   "source": [
    "from prometheus_client import start_http_server\n",
    "\n",
    "start_http_server(8000)"
   ]
  },
  {
   "cell_type": "code",
   "execution_count": null,
   "id": "f735a553",
   "metadata": {},
   "outputs": [],
   "source": []
  },
  {
   "cell_type": "code",
   "execution_count": null,
   "id": "624c999c",
   "metadata": {},
   "outputs": [],
   "source": []
  },
  {
   "cell_type": "code",
   "execution_count": null,
   "id": "46093962",
   "metadata": {},
   "outputs": [],
   "source": []
  },
  {
   "cell_type": "code",
   "execution_count": null,
   "id": "46e6c508",
   "metadata": {},
   "outputs": [],
   "source": []
  },
  {
   "cell_type": "code",
   "execution_count": null,
   "id": "a15e3bcc",
   "metadata": {},
   "outputs": [],
   "source": []
  },
  {
   "cell_type": "code",
   "execution_count": null,
   "id": "12d1ea73",
   "metadata": {},
   "outputs": [],
   "source": []
  },
  {
   "cell_type": "code",
   "execution_count": null,
   "id": "5ba294e5",
   "metadata": {},
   "outputs": [],
   "source": []
  }
 ],
 "metadata": {
  "kernelspec": {
   "display_name": "Python 3 (ipykernel)",
   "language": "python",
   "name": "python3"
  },
  "language_info": {
   "codemirror_mode": {
    "name": "ipython",
    "version": 3
   },
   "file_extension": ".py",
   "mimetype": "text/x-python",
   "name": "python",
   "nbconvert_exporter": "python",
   "pygments_lexer": "ipython3",
   "version": "3.9.13"
  }
 },
 "nbformat": 4,
 "nbformat_minor": 5
}
