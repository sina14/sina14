{
 "cells": [
  {
   "cell_type": "code",
   "execution_count": 10,
   "id": "a79be9f3",
   "metadata": {},
   "outputs": [],
   "source": [
    "from tkinter import *\n",
    "import tkinter as tk\n",
    "import tkinter.messagebox as mbox\n",
    "from PIL import ImageTk, Image\n",
    "import time\n",
    "import psutil\n",
    "import socket"
   ]
  },
  {
   "cell_type": "code",
   "execution_count": 15,
   "id": "49bb0422",
   "metadata": {},
   "outputs": [
    {
     "data": {
      "text/plain": [
       "''"
      ]
     },
     "execution_count": 15,
     "metadata": {},
     "output_type": "execute_result"
    }
   ],
   "source": [
    "window1 = tk.Tk()\n",
    "window1.title(\"Network Usage\")\n",
    "window1.geometry('1000x700')"
   ]
  },
  {
   "cell_type": "code",
   "execution_count": 16,
   "id": "951b9e3e",
   "metadata": {},
   "outputs": [],
   "source": [
    "start1 = tk.Label(text=\"Network Usgae\\nTracker\", font=(\"Arial\", 55, \"underline\"), fg=\"magenta\")\n",
    "start1.place(x=150, y=10)"
   ]
  },
  {
   "cell_type": "code",
   "execution_count": null,
   "id": "e79918c5",
   "metadata": {},
   "outputs": [],
   "source": []
  }
 ],
 "metadata": {
  "kernelspec": {
   "display_name": "Python 3 (ipykernel)",
   "language": "python",
   "name": "python3"
  },
  "language_info": {
   "codemirror_mode": {
    "name": "ipython",
    "version": 3
   },
   "file_extension": ".py",
   "mimetype": "text/x-python",
   "name": "python",
   "nbconvert_exporter": "python",
   "pygments_lexer": "ipython3",
   "version": "3.10.6"
  }
 },
 "nbformat": 4,
 "nbformat_minor": 5
}
