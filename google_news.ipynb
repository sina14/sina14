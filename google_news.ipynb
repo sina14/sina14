{
 "cells": [
  {
   "cell_type": "code",
   "execution_count": 1,
   "id": "a26a580d",
   "metadata": {},
   "outputs": [
    {
     "name": "stdout",
     "output_type": "stream",
     "text": [
      "Collecting GoogleNews\n",
      "  Downloading GoogleNews-1.6.6-py3-none-any.whl (8.0 kB)\n",
      "Requirement already satisfied: python-dateutil in /home/sina/notebook/jupyterenv/lib/python3.10/site-packages (from GoogleNews) (2.8.2)\n",
      "Collecting dateparser\n",
      "  Downloading dateparser-1.1.5-py2.py3-none-any.whl (293 kB)\n",
      "\u001b[2K     \u001b[38;2;114;156;31m━━━━━━━━━━━━━━━━━━━━━━━━━━━━━━━━━━━━━\u001b[0m \u001b[32m293.2/293.2 kB\u001b[0m \u001b[31m557.8 kB/s\u001b[0m eta \u001b[36m0:00:00\u001b[0m1m554.8 kB/s\u001b[0m eta \u001b[36m0:00:01\u001b[0m\n",
      "\u001b[?25hRequirement already satisfied: beautifulsoup4 in /home/sina/notebook/jupyterenv/lib/python3.10/site-packages (from GoogleNews) (4.11.1)\n",
      "Requirement already satisfied: soupsieve>1.2 in /home/sina/notebook/jupyterenv/lib/python3.10/site-packages (from beautifulsoup4->GoogleNews) (2.3.2.post1)\n",
      "Collecting tzlocal\n",
      "  Downloading tzlocal-4.2-py3-none-any.whl (19 kB)\n",
      "Collecting pytz\n",
      "  Downloading pytz-2022.7-py2.py3-none-any.whl (499 kB)\n",
      "\u001b[2K     \u001b[38;2;114;156;31m━━━━━━━━━━━━━━━━━━━━━━━━━━━━━━━━━━━━━\u001b[0m \u001b[32m499.4/499.4 kB\u001b[0m \u001b[31m792.2 kB/s\u001b[0m eta \u001b[36m0:00:00\u001b[0m[36m0:00:01\u001b[0m[36m0:00:01\u001b[0m:01\u001b[0m\n",
      "\u001b[?25hCollecting regex!=2019.02.19,!=2021.8.27\n",
      "  Downloading regex-2022.10.31-cp310-cp310-manylinux_2_17_x86_64.manylinux2014_x86_64.whl (770 kB)\n",
      "\u001b[2K     \u001b[38;2;114;156;31m━━━━━━━━━━━━━━━━━━━━━━━━━━━━━━━━━━━━━\u001b[0m \u001b[32m770.5/770.5 kB\u001b[0m \u001b[31m786.4 kB/s\u001b[0m eta \u001b[36m0:00:00\u001b[0m1m790.8 kB/s\u001b[0m eta \u001b[36m0:00:01\u001b[0m\n",
      "\u001b[?25hRequirement already satisfied: six>=1.5 in /home/sina/notebook/jupyterenv/lib/python3.10/site-packages (from python-dateutil->GoogleNews) (1.16.0)\n",
      "Collecting pytz-deprecation-shim\n",
      "  Downloading pytz_deprecation_shim-0.1.0.post0-py2.py3-none-any.whl (15 kB)\n",
      "Collecting tzdata\n",
      "  Downloading tzdata-2022.7-py2.py3-none-any.whl (340 kB)\n",
      "\u001b[2K     \u001b[38;2;114;156;31m━━━━━━━━━━━━━━━━━━━━━━━━━━━━━━━━━━━━━\u001b[0m \u001b[32m340.1/340.1 kB\u001b[0m \u001b[31m938.2 kB/s\u001b[0m eta \u001b[36m0:00:00\u001b[0m1m970.2 kB/s\u001b[0m eta \u001b[36m0:00:01\u001b[0m\n",
      "\u001b[?25hInstalling collected packages: pytz, tzdata, regex, pytz-deprecation-shim, tzlocal, dateparser, GoogleNews\n",
      "Successfully installed GoogleNews-1.6.6 dateparser-1.1.5 pytz-2022.7 pytz-deprecation-shim-0.1.0.post0 regex-2022.10.31 tzdata-2022.7 tzlocal-4.2\n"
     ]
    }
   ],
   "source": [
    "!pip install GoogleNews"
   ]
  },
  {
   "cell_type": "code",
   "execution_count": 7,
   "id": "3a4f7649",
   "metadata": {},
   "outputs": [
    {
     "name": "stdout",
     "output_type": "stream",
     "text": [
      "Collecting pandas\n",
      "  Downloading pandas-1.5.2-cp310-cp310-manylinux_2_17_x86_64.manylinux2014_x86_64.whl (12.1 MB)\n",
      "\u001b[2K     \u001b[38;2;114;156;31m━━━━━━━━━━━━━━━━━━━━━━━━━━━━━━━━━━━━━━━\u001b[0m \u001b[32m12.1/12.1 MB\u001b[0m \u001b[31m941.8 kB/s\u001b[0m eta \u001b[36m0:00:00\u001b[0mm eta \u001b[36m0:00:01\u001b[0m[36m0:00:01\u001b[0m\n",
      "\u001b[?25hRequirement already satisfied: pytz>=2020.1 in /home/sina/notebook/jupyterenv/lib/python3.10/site-packages (from pandas) (2022.7)\n",
      "Collecting numpy>=1.21.0\n",
      "  Downloading numpy-1.24.1-cp310-cp310-manylinux_2_17_x86_64.manylinux2014_x86_64.whl (17.3 MB)\n",
      "\u001b[2K     \u001b[38;2;114;156;31m━━━━━━━━━━━━━━━━━━━━━━━━━━━━━━━━━━━━━━━\u001b[0m \u001b[32m17.3/17.3 MB\u001b[0m \u001b[31m939.0 kB/s\u001b[0m eta \u001b[36m0:00:00\u001b[0mm eta \u001b[36m0:00:01\u001b[0m[36m0:00:01\u001b[0m\n",
      "\u001b[?25hRequirement already satisfied: python-dateutil>=2.8.1 in /home/sina/notebook/jupyterenv/lib/python3.10/site-packages (from pandas) (2.8.2)\n",
      "Requirement already satisfied: six>=1.5 in /home/sina/notebook/jupyterenv/lib/python3.10/site-packages (from python-dateutil>=2.8.1->pandas) (1.16.0)\n",
      "Installing collected packages: numpy, pandas\n",
      "Successfully installed numpy-1.24.1 pandas-1.5.2\n"
     ]
    }
   ],
   "source": [
    "!pip install pandas"
   ]
  },
  {
   "cell_type": "code",
   "execution_count": 2,
   "id": "4fdcbc3c",
   "metadata": {},
   "outputs": [],
   "source": [
    "from GoogleNews import GoogleNews"
   ]
  },
  {
   "cell_type": "code",
   "execution_count": 3,
   "id": "e977b9c2",
   "metadata": {},
   "outputs": [],
   "source": [
    "news = GoogleNews(period='1d')"
   ]
  },
  {
   "cell_type": "code",
   "execution_count": 4,
   "id": "7afab94e",
   "metadata": {},
   "outputs": [],
   "source": [
    "news.search(\"Iran\")\n",
    "result = news.result()"
   ]
  },
  {
   "cell_type": "code",
   "execution_count": 8,
   "id": "6bfa8f72",
   "metadata": {},
   "outputs": [],
   "source": [
    "import pandas as pd"
   ]
  },
  {
   "cell_type": "code",
   "execution_count": 12,
   "id": "407aa94b",
   "metadata": {},
   "outputs": [
    {
     "data": {
      "text/html": [
       "<div>\n",
       "<style scoped>\n",
       "    .dataframe tbody tr th:only-of-type {\n",
       "        vertical-align: middle;\n",
       "    }\n",
       "\n",
       "    .dataframe tbody tr th {\n",
       "        vertical-align: top;\n",
       "    }\n",
       "\n",
       "    .dataframe thead th {\n",
       "        text-align: right;\n",
       "    }\n",
       "</style>\n",
       "<table border=\"1\" class=\"dataframe\">\n",
       "  <thead>\n",
       "    <tr style=\"text-align: right;\">\n",
       "      <th></th>\n",
       "      <th>title</th>\n",
       "      <th>media</th>\n",
       "      <th>date</th>\n",
       "      <th>datetime</th>\n",
       "      <th>desc</th>\n",
       "      <th>link</th>\n",
       "    </tr>\n",
       "  </thead>\n",
       "  <tbody>\n",
       "    <tr>\n",
       "      <th>0</th>\n",
       "      <td>Opinion: Iran’s most powerful weapon isn’t wor...</td>\n",
       "      <td>Egypt Independent</td>\n",
       "      <td>8 mins ago</td>\n",
       "      <td>NaT</td>\n",
       "      <td>Dad, my sentence is death,” Mohammad Mehdi Kar...</td>\n",
       "      <td>https://www.egyptindependent.com/opinion-irans...</td>\n",
       "    </tr>\n",
       "    <tr>\n",
       "      <th>1</th>\n",
       "      <td>Iran isn't relaxing its hijab laws. How it wil...</td>\n",
       "      <td>Firstpost</td>\n",
       "      <td>9 mins ago</td>\n",
       "      <td>NaT</td>\n",
       "      <td>Despite widespread protests and global critici...</td>\n",
       "      <td>https://www.firstpost.com/explainers/iran-hija...</td>\n",
       "    </tr>\n",
       "    <tr>\n",
       "      <th>2</th>\n",
       "      <td>US Extends Protection For Pompeo, Hook In Ligh...</td>\n",
       "      <td>Iran International</td>\n",
       "      <td>3 mins ago</td>\n",
       "      <td>NaT</td>\n",
       "      <td>The US government has again extended protectio...</td>\n",
       "      <td>https://www.iranintl.com/en/202301113124</td>\n",
       "    </tr>\n",
       "    <tr>\n",
       "      <th>3</th>\n",
       "      <td>Iran’s President Pledges Support for Knowledge...</td>\n",
       "      <td>Tasnim News Agency</td>\n",
       "      <td>2 hours ago</td>\n",
       "      <td>2023-01-11 10:49:47.272917</td>\n",
       "      <td>TEHRAN (Tasnim) – Iranian President Ebrahim Ra...</td>\n",
       "      <td>https://www.tasnimnews.com/en/news/2023/01/11/...</td>\n",
       "    </tr>\n",
       "    <tr>\n",
       "      <th>4</th>\n",
       "      <td>Germany’s relationship with Iran under fire as...</td>\n",
       "      <td>Fox News</td>\n",
       "      <td>2 hours ago</td>\n",
       "      <td>2023-01-11 10:49:47.299810</td>\n",
       "      <td>Germany conducted over 1 billion euros in trad...</td>\n",
       "      <td>https://www.foxnews.com/world/germanys-relatio...</td>\n",
       "    </tr>\n",
       "  </tbody>\n",
       "</table>\n",
       "</div>"
      ],
      "text/plain": [
       "                                               title               media  \\\n",
       "0  Opinion: Iran’s most powerful weapon isn’t wor...   Egypt Independent   \n",
       "1  Iran isn't relaxing its hijab laws. How it wil...           Firstpost   \n",
       "2  US Extends Protection For Pompeo, Hook In Ligh...  Iran International   \n",
       "3  Iran’s President Pledges Support for Knowledge...  Tasnim News Agency   \n",
       "4  Germany’s relationship with Iran under fire as...            Fox News   \n",
       "\n",
       "          date                   datetime  \\\n",
       "0   8 mins ago                        NaT   \n",
       "1   9 mins ago                        NaT   \n",
       "2   3 mins ago                        NaT   \n",
       "3  2 hours ago 2023-01-11 10:49:47.272917   \n",
       "4  2 hours ago 2023-01-11 10:49:47.299810   \n",
       "\n",
       "                                                desc  \\\n",
       "0  Dad, my sentence is death,” Mohammad Mehdi Kar...   \n",
       "1  Despite widespread protests and global critici...   \n",
       "2  The US government has again extended protectio...   \n",
       "3  TEHRAN (Tasnim) – Iranian President Ebrahim Ra...   \n",
       "4  Germany conducted over 1 billion euros in trad...   \n",
       "\n",
       "                                                link  \n",
       "0  https://www.egyptindependent.com/opinion-irans...  \n",
       "1  https://www.firstpost.com/explainers/iran-hija...  \n",
       "2           https://www.iranintl.com/en/202301113124  \n",
       "3  https://www.tasnimnews.com/en/news/2023/01/11/...  \n",
       "4  https://www.foxnews.com/world/germanys-relatio...  "
      ]
     },
     "execution_count": 12,
     "metadata": {},
     "output_type": "execute_result"
    }
   ],
   "source": [
    "data = pd.DataFrame.from_dict(result)\n",
    "data = data.drop(columns=\"img\")\n",
    "data.head()"
   ]
  },
  {
   "cell_type": "code",
   "execution_count": 15,
   "id": "60b64a2c",
   "metadata": {},
   "outputs": [
    {
     "name": "stdout",
     "output_type": "stream",
     "text": [
      "Opinion: Iran’s most powerful weapon isn’t working\n"
     ]
    }
   ],
   "source": [
    "print(data['title'][0])"
   ]
  },
  {
   "cell_type": "code",
   "execution_count": null,
   "id": "91c06570",
   "metadata": {},
   "outputs": [],
   "source": []
  }
 ],
 "metadata": {
  "kernelspec": {
   "display_name": "Python 3 (ipykernel)",
   "language": "python",
   "name": "python3"
  },
  "language_info": {
   "codemirror_mode": {
    "name": "ipython",
    "version": 3
   },
   "file_extension": ".py",
   "mimetype": "text/x-python",
   "name": "python",
   "nbconvert_exporter": "python",
   "pygments_lexer": "ipython3",
   "version": "3.10.6"
  }
 },
 "nbformat": 4,
 "nbformat_minor": 5
}
