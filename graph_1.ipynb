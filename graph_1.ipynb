{
  "nbformat": 4,
  "nbformat_minor": 0,
  "metadata": {
    "colab": {
      "provenance": [],
      "authorship_tag": "ABX9TyMo4XE99d1n8GAlTH1Ge0oF",
      "include_colab_link": true
    },
    "kernelspec": {
      "name": "python3",
      "display_name": "Python 3"
    },
    "language_info": {
      "name": "python"
    }
  },
  "cells": [
    {
      "cell_type": "markdown",
      "metadata": {
        "id": "view-in-github",
        "colab_type": "text"
      },
      "source": [
        "<a href=\"https://colab.research.google.com/github/sina14/sina14/blob/main/graph_1.ipynb\" target=\"_parent\"><img src=\"https://colab.research.google.com/assets/colab-badge.svg\" alt=\"Open In Colab\"/></a>"
      ]
    },
    {
      "cell_type": "code",
      "execution_count": 1,
      "metadata": {
        "id": "ecnUb7F0ShkE"
      },
      "outputs": [],
      "source": [
        "import requests as rq\n",
        "from bs4 import BeautifulSoup"
      ]
    },
    {
      "cell_type": "code",
      "source": [
        "resp = rq.get(\"https://en.wikipedia.org/wiki/William_Feller\")\n",
        "#resp.content"
      ],
      "metadata": {
        "id": "Z9cgDo_vTIOc"
      },
      "execution_count": null,
      "outputs": []
    },
    {
      "cell_type": "code",
      "source": [
        "advisor = BeautifulSoup(resp.content).find(lambda tag : tag.name == 'tr' and 'student' in tag.text.lower())"
      ],
      "metadata": {
        "id": "-n4RT3YjTenN"
      },
      "execution_count": 3,
      "outputs": []
    },
    {
      "cell_type": "code",
      "source": [
        "#advisor"
      ],
      "metadata": {
        "id": "ASi8YoYxb6wW"
      },
      "execution_count": 4,
      "outputs": []
    },
    {
      "cell_type": "code",
      "source": [
        "advisors = advisor.find_all(lambda tag : tag.name == 'a' and ('student' not in tag.text.lower()))"
      ],
      "metadata": {
        "id": "r3f444IgTlZV"
      },
      "execution_count": 5,
      "outputs": []
    },
    {
      "cell_type": "code",
      "source": [
        "for item in advisors:\n",
        "  print(item.text, item['href'])"
      ],
      "metadata": {
        "colab": {
          "base_uri": "https://localhost:8080/"
        },
        "id": "zeY9PX6ucCFV",
        "outputId": "f3975009-05d2-4d33-c2d8-d13a30fd8636"
      },
      "execution_count": 6,
      "outputs": [
        {
          "output_type": "stream",
          "name": "stdout",
          "text": [
            "Patrick Billingsley /wiki/Patrick_Billingsley\n",
            "George Forsythe /wiki/George_Forsythe\n",
            "Henry McKean /wiki/Henry_McKean\n",
            "Lawrence Shepp /wiki/Lawrence_Shepp\n",
            "Hale Trotter /wiki/Hale_Trotter\n",
            "Benjamin Weiss /wiki/Benjamin_Weiss\n",
            "David A. Freedman /wiki/David_A._Freedman\n"
          ]
        }
      ]
    },
    {
      "cell_type": "code",
      "source": [
        "def get_page_info(page_url):\n",
        "\n",
        "  base_url = 'https://en.wikipedia.org'\n",
        "  url = base_url + page_url\n",
        "\n",
        "  resp = rq.get(url)\n",
        "  content = resp.content\n",
        "\n",
        "  soup = BeautifulSoup(content)\n",
        "  result = {}\n",
        "\n",
        "  for entry in ['student', 'advisor']:\n",
        "    result[entry] = []\n",
        "    entry_block = soup.find(lambda tag : tag.name=='tr' and entry in tag.text.lower())\n",
        "    entries = entry_block.find_all(lambda tag : tag.name == 'a' and (entry not in tag.text.lower()))\n",
        "\n",
        "    for item in entries:\n",
        "      result[entry].append((item['href'], item.text))\n",
        "\n",
        "  return result"
      ],
      "metadata": {
        "id": "pdLVeOBqeiz-"
      },
      "execution_count": 14,
      "outputs": []
    },
    {
      "cell_type": "code",
      "source": [
        "init = ('/wiki/William_Feller', 'William Feller')\n",
        "#get_page_info(init[0])\n",
        "\n",
        "queue = [init]\n",
        "visited_nodes = set()\n",
        "\n",
        "while len(queue) > 0 and len(visited_nodes) < 50:\n",
        "  page = queue.pop(0)\n",
        "  visited_nodes.add(page[0])\n",
        "\n",
        "  try:\n",
        "    data = get_page_info(page[0])\n",
        "  except:\n",
        "    continue\n",
        "\n",
        "  for advisor in data['advisor']:\n",
        "    if advisor[0] not in visited_nodes:\n",
        "      queue.append(advisor[0])\n",
        "      visited_nodes.add(advisor[0])\n",
        "      print(advisor[1], '->', page[1])\n",
        "\n",
        "  for student in data['student']:\n",
        "    if student[0] not in visited_nodes:\n",
        "      queue.append(student[0])\n",
        "      visited_nodes.add(student[0])\n",
        "      print(page[1], '->', student[1])\n"
      ],
      "metadata": {
        "colab": {
          "base_uri": "https://localhost:8080/"
        },
        "id": "Tp3JzUs2f5DF",
        "outputId": "6940ae21-9391-485b-bebb-f23971112e0c"
      },
      "execution_count": 17,
      "outputs": [
        {
          "output_type": "stream",
          "name": "stdout",
          "text": [
            "Richard Courant -> William Feller\n",
            "William Feller -> Patrick Billingsley\n",
            "William Feller -> George Forsythe\n",
            "William Feller -> Henry McKean\n",
            "William Feller -> Lawrence Shepp\n",
            "William Feller -> Hale Trotter\n",
            "William Feller -> Benjamin Weiss\n",
            "William Feller -> David A. Freedman\n"
          ]
        }
      ]
    }
  ]
}