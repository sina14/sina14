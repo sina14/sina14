{
  "nbformat": 4,
  "nbformat_minor": 0,
  "metadata": {
    "colab": {
      "provenance": [],
      "authorship_tag": "ABX9TyNZ52oTYs7Zcjvi3jrL5pjh",
      "include_colab_link": true
    },
    "kernelspec": {
      "name": "python3",
      "display_name": "Python 3"
    },
    "language_info": {
      "name": "python"
    }
  },
  "cells": [
    {
      "cell_type": "markdown",
      "metadata": {
        "id": "view-in-github",
        "colab_type": "text"
      },
      "source": [
        "<a href=\"https://colab.research.google.com/github/sina14/sina14/blob/main/graph_1.ipynb\" target=\"_parent\"><img src=\"https://colab.research.google.com/assets/colab-badge.svg\" alt=\"Open In Colab\"/></a>"
      ]
    },
    {
      "cell_type": "code",
      "execution_count": 1,
      "metadata": {
        "id": "ecnUb7F0ShkE"
      },
      "outputs": [],
      "source": [
        "import requests as rq\n",
        "from bs4 import BeautifulSoup"
      ]
    },
    {
      "cell_type": "code",
      "source": [
        "resp = rq.get(\"https://en.wikipedia.org/wiki/William_Feller\")\n",
        "#resp.content"
      ],
      "metadata": {
        "id": "Z9cgDo_vTIOc"
      },
      "execution_count": null,
      "outputs": []
    },
    {
      "cell_type": "code",
      "source": [
        "advisor = BeautifulSoup(resp.content).find(lambda tag : tag.name == 'tr' and 'student' in tag.text.lower())"
      ],
      "metadata": {
        "id": "-n4RT3YjTenN"
      },
      "execution_count": 3,
      "outputs": []
    },
    {
      "cell_type": "code",
      "source": [
        "#advisor"
      ],
      "metadata": {
        "id": "ASi8YoYxb6wW"
      },
      "execution_count": 4,
      "outputs": []
    },
    {
      "cell_type": "code",
      "source": [
        "advisors = advisor.find_all(lambda tag : tag.name == 'a' and ('student' not in tag.text.lower()))"
      ],
      "metadata": {
        "id": "r3f444IgTlZV"
      },
      "execution_count": 5,
      "outputs": []
    },
    {
      "cell_type": "code",
      "source": [
        "for item in advisors:\n",
        "  print(item.text, item['href'])"
      ],
      "metadata": {
        "colab": {
          "base_uri": "https://localhost:8080/"
        },
        "id": "zeY9PX6ucCFV",
        "outputId": "f3975009-05d2-4d33-c2d8-d13a30fd8636"
      },
      "execution_count": 6,
      "outputs": [
        {
          "output_type": "stream",
          "name": "stdout",
          "text": [
            "Patrick Billingsley /wiki/Patrick_Billingsley\n",
            "George Forsythe /wiki/George_Forsythe\n",
            "Henry McKean /wiki/Henry_McKean\n",
            "Lawrence Shepp /wiki/Lawrence_Shepp\n",
            "Hale Trotter /wiki/Hale_Trotter\n",
            "Benjamin Weiss /wiki/Benjamin_Weiss\n",
            "David A. Freedman /wiki/David_A._Freedman\n"
          ]
        }
      ]
    }
  ]
}