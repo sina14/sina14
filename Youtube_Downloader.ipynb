{
  "nbformat": 4,
  "nbformat_minor": 0,
  "metadata": {
    "colab": {
      "provenance": [],
      "authorship_tag": "ABX9TyOyQvoCBQSBcubZcjroxU+N",
      "include_colab_link": true
    },
    "kernelspec": {
      "name": "python3",
      "display_name": "Python 3"
    },
    "language_info": {
      "name": "python"
    }
  },
  "cells": [
    {
      "cell_type": "markdown",
      "metadata": {
        "id": "view-in-github",
        "colab_type": "text"
      },
      "source": [
        "<a href=\"https://colab.research.google.com/github/sina14/sina14/blob/main/Youtube_Downloader.ipynb\" target=\"_parent\"><img src=\"https://colab.research.google.com/assets/colab-badge.svg\" alt=\"Open In Colab\"/></a>"
      ]
    },
    {
      "cell_type": "code",
      "execution_count": null,
      "metadata": {
        "colab": {
          "base_uri": "https://localhost:8080/"
        },
        "id": "mlf80et4TVoF",
        "outputId": "2994dde4-7805-4d4c-e1a7-c91a32268bbb"
      },
      "outputs": [
        {
          "output_type": "stream",
          "name": "stdout",
          "text": [
            "Looking in indexes: https://pypi.org/simple, https://us-python.pkg.dev/colab-wheels/public/simple/\n",
            "Collecting pytube\n",
            "  Downloading pytube-12.1.2-py3-none-any.whl (57 kB)\n",
            "\u001b[2K     \u001b[90m━━━━━━━━━━━━━━━━━━━━━━━━━━━━━━━━━━━━━━━━\u001b[0m \u001b[32m57.0/57.0 KB\u001b[0m \u001b[31m6.6 MB/s\u001b[0m eta \u001b[36m0:00:00\u001b[0m\n",
            "\u001b[?25hInstalling collected packages: pytube\n",
            "Successfully installed pytube-12.1.2\n"
          ]
        }
      ],
      "source": [
        "!pip install pytube"
      ]
    },
    {
      "cell_type": "code",
      "source": [
        "from pytube import YouTube\n",
        "import numpy as np"
      ],
      "metadata": {
        "id": "KPpbEZRGTe-N"
      },
      "execution_count": null,
      "outputs": []
    },
    {
      "cell_type": "code",
      "source": [
        "def video_info(yt):\n",
        "    print(\"Title: \", yt.length, \" Seconds.\")\n",
        "    print(\"Total Views: \", yt.views)\n",
        "    print(\"Is age restricted: \", yt.age_restricted)\n",
        "    #print(\"Video Rating: \", np.round(yt.rating, 1))\n",
        "    print(\"Thumbnail URL: \", yt.thumbnail_url)"
      ],
      "metadata": {
        "id": "YJUumPbrTfgh"
      },
      "execution_count": null,
      "outputs": []
    },
    {
      "cell_type": "code",
      "source": [
        "link = \"https://www.youtube.com/watch?v=2pbdYCOwKKs\"\n",
        "yt = YouTube(link)"
      ],
      "metadata": {
        "id": "nuLhmj-MTfkO"
      },
      "execution_count": null,
      "outputs": []
    },
    {
      "cell_type": "code",
      "source": [
        "video_info(yt)"
      ],
      "metadata": {
        "colab": {
          "base_uri": "https://localhost:8080/"
        },
        "id": "SlRNJvCiTfm4",
        "outputId": "cb5b7a28-d3c0-4a03-d39c-bcb26024d2bd"
      },
      "execution_count": null,
      "outputs": [
        {
          "output_type": "stream",
          "name": "stdout",
          "text": [
            "Title:  219  Seconds.\n",
            "Total Views:  5520\n",
            "Is age restricted:  False\n",
            "Thumbnail URL:  https://i.ytimg.com/vi/2pbdYCOwKKs/sddefault.jpg?sqp=-oaymwEmCIAFEOAD8quKqQMa8AEB-AH-DoACuAiKAgwIABABGEQgEyh_MA8=&rs=AOn4CLCYAmstr-dKhSFghM4ppxX9KvPSDg\n"
          ]
        }
      ]
    },
    {
      "cell_type": "code",
      "source": [
        "# Video Download"
      ],
      "metadata": {
        "id": "c9JS9GJ8TfpQ"
      },
      "execution_count": null,
      "outputs": []
    },
    {
      "cell_type": "code",
      "source": [
        "def download_video(yt):\n",
        "    my_streams = yt.streams.filter(file_extension='mp4', only_video=True)\n",
        "    for streams in my_streams:\n",
        "        print(f\"Video itag: {streams.itag} Resolution: {streams.resolution}\")\n",
        "\n",
        "    input_itag = input(\"Enter itag Value: \")\n",
        "    video = yt.streams.get_by_itag(input_itag)\n",
        "\n",
        "    video.download()\n",
        "    print(\"Video is downloading as \", yt.title + \".mp4\")"
      ],
      "metadata": {
        "id": "9niJNd47Tfr_"
      },
      "execution_count": null,
      "outputs": []
    },
    {
      "cell_type": "code",
      "source": [
        "download_video(yt)"
      ],
      "metadata": {
        "colab": {
          "base_uri": "https://localhost:8080/",
          "height": 455
        },
        "id": "nVlooK_JYZbd",
        "outputId": "7c428ddc-b1df-4cf4-ed8a-58618c4ef6a7"
      },
      "execution_count": null,
      "outputs": [
        {
          "name": "stdout",
          "output_type": "stream",
          "text": [
            "Video itag: 137 Resolution: 1080p\n",
            "Video itag: 136 Resolution: 720p\n",
            "Video itag: 135 Resolution: 480p\n",
            "Video itag: 134 Resolution: 360p\n",
            "Video itag: 133 Resolution: 240p\n",
            "Video itag: 160 Resolution: 144p\n",
            "Enter itag Value: 135\n"
          ]
        },
        {
          "output_type": "error",
          "ename": "KeyError",
          "evalue": "ignored",
          "traceback": [
            "\u001b[0;31m---------------------------------------------------------------------------\u001b[0m",
            "\u001b[0;31mKeyError\u001b[0m                                  Traceback (most recent call last)",
            "\u001b[0;32m<ipython-input-55-ba235b589e63>\u001b[0m in \u001b[0;36m<module>\u001b[0;34m\u001b[0m\n\u001b[0;32m----> 1\u001b[0;31m \u001b[0mdownload_video\u001b[0m\u001b[0;34m(\u001b[0m\u001b[0myt\u001b[0m\u001b[0;34m)\u001b[0m\u001b[0;34m\u001b[0m\u001b[0;34m\u001b[0m\u001b[0m\n\u001b[0m",
            "\u001b[0;32m<ipython-input-54-b4a40c152d7d>\u001b[0m in \u001b[0;36mdownload_video\u001b[0;34m(yt)\u001b[0m\n\u001b[1;32m      7\u001b[0m     \u001b[0mvideo\u001b[0m \u001b[0;34m=\u001b[0m \u001b[0myt\u001b[0m\u001b[0;34m.\u001b[0m\u001b[0mstreams\u001b[0m\u001b[0;34m.\u001b[0m\u001b[0mget_by_itag\u001b[0m\u001b[0;34m(\u001b[0m\u001b[0minput_itag\u001b[0m\u001b[0;34m)\u001b[0m\u001b[0;34m\u001b[0m\u001b[0;34m\u001b[0m\u001b[0m\n\u001b[1;32m      8\u001b[0m \u001b[0;34m\u001b[0m\u001b[0m\n\u001b[0;32m----> 9\u001b[0;31m     \u001b[0mvideo\u001b[0m\u001b[0;34m.\u001b[0m\u001b[0mdownload\u001b[0m\u001b[0;34m(\u001b[0m\u001b[0;34m)\u001b[0m\u001b[0;34m\u001b[0m\u001b[0;34m\u001b[0m\u001b[0m\n\u001b[0m\u001b[1;32m     10\u001b[0m     \u001b[0mprint\u001b[0m\u001b[0;34m(\u001b[0m\u001b[0;34m\"Video is downloading as \"\u001b[0m\u001b[0;34m,\u001b[0m \u001b[0myt\u001b[0m\u001b[0;34m.\u001b[0m\u001b[0mtitle\u001b[0m \u001b[0;34m+\u001b[0m \u001b[0;34m\".mp4\"\u001b[0m\u001b[0;34m)\u001b[0m\u001b[0;34m\u001b[0m\u001b[0;34m\u001b[0m\u001b[0m\n",
            "\u001b[0;32m/usr/local/lib/python3.8/dist-packages/pytube/streams.py\u001b[0m in \u001b[0;36mdownload\u001b[0;34m(self, output_path, filename, filename_prefix, skip_existing, timeout, max_retries)\u001b[0m\n\u001b[1;32m    307\u001b[0m             \u001b[0;32mreturn\u001b[0m \u001b[0mfile_path\u001b[0m\u001b[0;34m\u001b[0m\u001b[0;34m\u001b[0m\u001b[0m\n\u001b[1;32m    308\u001b[0m \u001b[0;34m\u001b[0m\u001b[0m\n\u001b[0;32m--> 309\u001b[0;31m         \u001b[0mbytes_remaining\u001b[0m \u001b[0;34m=\u001b[0m \u001b[0mself\u001b[0m\u001b[0;34m.\u001b[0m\u001b[0mfilesize\u001b[0m\u001b[0;34m\u001b[0m\u001b[0;34m\u001b[0m\u001b[0m\n\u001b[0m\u001b[1;32m    310\u001b[0m         \u001b[0mlogger\u001b[0m\u001b[0;34m.\u001b[0m\u001b[0mdebug\u001b[0m\u001b[0;34m(\u001b[0m\u001b[0;34mf'downloading ({self.filesize} total bytes) file to {file_path}'\u001b[0m\u001b[0;34m)\u001b[0m\u001b[0;34m\u001b[0m\u001b[0;34m\u001b[0m\u001b[0m\n\u001b[1;32m    311\u001b[0m \u001b[0;34m\u001b[0m\u001b[0m\n",
            "\u001b[0;32m/usr/local/lib/python3.8/dist-packages/pytube/streams.py\u001b[0m in \u001b[0;36mfilesize\u001b[0;34m(self)\u001b[0m\n\u001b[1;32m    155\u001b[0m         \u001b[0;32mif\u001b[0m \u001b[0mself\u001b[0m\u001b[0;34m.\u001b[0m\u001b[0m_filesize\u001b[0m \u001b[0;34m==\u001b[0m \u001b[0;36m0\u001b[0m\u001b[0;34m:\u001b[0m\u001b[0;34m\u001b[0m\u001b[0;34m\u001b[0m\u001b[0m\n\u001b[1;32m    156\u001b[0m             \u001b[0;32mtry\u001b[0m\u001b[0;34m:\u001b[0m\u001b[0;34m\u001b[0m\u001b[0;34m\u001b[0m\u001b[0m\n\u001b[0;32m--> 157\u001b[0;31m                 \u001b[0mself\u001b[0m\u001b[0;34m.\u001b[0m\u001b[0m_filesize\u001b[0m \u001b[0;34m=\u001b[0m \u001b[0mrequest\u001b[0m\u001b[0;34m.\u001b[0m\u001b[0mfilesize\u001b[0m\u001b[0;34m(\u001b[0m\u001b[0mself\u001b[0m\u001b[0;34m.\u001b[0m\u001b[0murl\u001b[0m\u001b[0;34m)\u001b[0m\u001b[0;34m\u001b[0m\u001b[0;34m\u001b[0m\u001b[0m\n\u001b[0m\u001b[1;32m    158\u001b[0m             \u001b[0;32mexcept\u001b[0m \u001b[0mHTTPError\u001b[0m \u001b[0;32mas\u001b[0m \u001b[0me\u001b[0m\u001b[0;34m:\u001b[0m\u001b[0;34m\u001b[0m\u001b[0;34m\u001b[0m\u001b[0m\n\u001b[1;32m    159\u001b[0m                 \u001b[0;32mif\u001b[0m \u001b[0me\u001b[0m\u001b[0;34m.\u001b[0m\u001b[0mcode\u001b[0m \u001b[0;34m!=\u001b[0m \u001b[0;36m404\u001b[0m\u001b[0;34m:\u001b[0m\u001b[0;34m\u001b[0m\u001b[0;34m\u001b[0m\u001b[0m\n",
            "\u001b[0;32m/usr/local/lib/python3.8/dist-packages/pytube/request.py\u001b[0m in \u001b[0;36mfilesize\u001b[0;34m(url)\u001b[0m\n\u001b[1;32m    198\u001b[0m     \u001b[0;34m:\u001b[0m\u001b[0mreturns\u001b[0m\u001b[0;34m:\u001b[0m \u001b[0mint\u001b[0m\u001b[0;34m:\u001b[0m \u001b[0msize\u001b[0m \u001b[0;32min\u001b[0m \u001b[0mbytes\u001b[0m \u001b[0mof\u001b[0m \u001b[0mremote\u001b[0m \u001b[0mfile\u001b[0m\u001b[0;34m\u001b[0m\u001b[0;34m\u001b[0m\u001b[0m\n\u001b[1;32m    199\u001b[0m     \"\"\"\n\u001b[0;32m--> 200\u001b[0;31m     \u001b[0;32mreturn\u001b[0m \u001b[0mint\u001b[0m\u001b[0;34m(\u001b[0m\u001b[0mhead\u001b[0m\u001b[0;34m(\u001b[0m\u001b[0murl\u001b[0m\u001b[0;34m)\u001b[0m\u001b[0;34m[\u001b[0m\u001b[0;34m\"content-length\"\u001b[0m\u001b[0;34m]\u001b[0m\u001b[0;34m)\u001b[0m\u001b[0;34m\u001b[0m\u001b[0;34m\u001b[0m\u001b[0m\n\u001b[0m\u001b[1;32m    201\u001b[0m \u001b[0;34m\u001b[0m\u001b[0m\n\u001b[1;32m    202\u001b[0m \u001b[0;34m\u001b[0m\u001b[0m\n",
            "\u001b[0;31mKeyError\u001b[0m: 'content-length'"
          ]
        }
      ]
    },
    {
      "cell_type": "code",
      "source": [
        "def download_audio(yt):\n",
        "    my_streams = yt.streams.filter(only_audio=True)\n",
        "    for streams in my_streams:\n",
        "        print(f\"Audio itag: {streams.itag} Quality: {streams.abr}\")\n",
        "\n",
        "    input_itag = input(\"Enter itag Value: \")\n",
        "    audio = yt.streams.get_by_itag(input_itag)\n",
        "\n",
        "    audio.download()\n",
        "    print(\"Audio is downloading as \", yt.title + \".mp3\")"
      ],
      "metadata": {
        "id": "e8cAWPn-YZno"
      },
      "execution_count": null,
      "outputs": []
    },
    {
      "cell_type": "code",
      "source": [
        "download_audio(yt)"
      ],
      "metadata": {
        "colab": {
          "base_uri": "https://localhost:8080/"
        },
        "id": "PMMuT_4PYZsg",
        "outputId": "cb106298-4d0a-4e8e-dde4-dd1a247521bf"
      },
      "execution_count": null,
      "outputs": [
        {
          "output_type": "stream",
          "name": "stdout",
          "text": [
            "Audio itag: 139 Quality: 48kbps\n",
            "Audio itag: 140 Quality: 128kbps\n",
            "Audio itag: 251 Quality: 160kbps\n",
            "Enter itag Value: 251\n",
            "Audio is downloading as  Nacho Sotomayor ft. Bebe - Eternal (Livin R Remix).mp3\n"
          ]
        }
      ]
    },
    {
      "cell_type": "code",
      "source": [],
      "metadata": {
        "id": "6PzLCpdYYZvz"
      },
      "execution_count": null,
      "outputs": []
    },
    {
      "cell_type": "code",
      "source": [
        "def download_playlist(p):\n",
        "    print(p.title)\n",
        "    for video in p.videos:\n",
        "        try:\n",
        "            video.streams.first().download(video.title)\n",
        "        except Exception as e:\n",
        "            print(e, type(e))\n",
        "    print(\"Playlist is downloaded\")"
      ],
      "metadata": {
        "id": "qBvPTfFWYZy3"
      },
      "execution_count": null,
      "outputs": []
    },
    {
      "cell_type": "code",
      "source": [
        "linkp = \"\"\n",
        "p = Playlist(link)"
      ],
      "metadata": {
        "id": "h1JcmpLdd0_5"
      },
      "execution_count": null,
      "outputs": []
    },
    {
      "cell_type": "code",
      "source": [
        "download_playlist(p)"
      ],
      "metadata": {
        "id": "6feaakIid19d"
      },
      "execution_count": null,
      "outputs": []
    },
    {
      "cell_type": "code",
      "source": [
        "# From OpenAI sample"
      ],
      "metadata": {
        "id": "Nq3ZxQaPd2nv"
      },
      "execution_count": null,
      "outputs": []
    },
    {
      "cell_type": "code",
      "source": [
        "from pytube import YouTube\n",
        "yt = YouTube(\"https://www.youtube.com/watch?v=QH2-TGUlwu4\")\n",
        "yt.streams.first().download()"
      ],
      "metadata": {
        "colab": {
          "base_uri": "https://localhost:8080/",
          "height": 35
        },
        "id": "pzhR9f6vhWRA",
        "outputId": "25f2f4af-2b45-42a5-8162-f49c977f6b9d"
      },
      "execution_count": null,
      "outputs": [
        {
          "output_type": "execute_result",
          "data": {
            "text/plain": [
              "'/content/Nyan Cat [original].3gpp'"
            ],
            "application/vnd.google.colaboratory.intrinsic+json": {
              "type": "string"
            }
          },
          "metadata": {},
          "execution_count": 3
        }
      ]
    },
    {
      "cell_type": "code",
      "source": [
        "# Another one"
      ],
      "metadata": {
        "id": "OQUWO4q_hWO9"
      },
      "execution_count": null,
      "outputs": []
    },
    {
      "cell_type": "code",
      "source": [
        "yt = YouTube(\"https://www.youtube.com/watch?v=CAnbzapDJLs\")\n",
        "#video = yt.streams.filter(mime_type='video/mp4').first()\n",
        "video = yt.streams.filter(mime_type='video/mp4', resolution='720p').first()\n",
        "video.download()"
      ],
      "metadata": {
        "colab": {
          "base_uri": "https://localhost:8080/",
          "height": 35
        },
        "id": "AcyQerWGhWNI",
        "outputId": "9dc79a43-bd8f-4dc6-89dc-00a45556f2c6"
      },
      "execution_count": null,
      "outputs": [
        {
          "output_type": "execute_result",
          "data": {
            "text/plain": [
              "'/content/Excel - Chat GPT + Excel - The future is here dont miss out.mp4'"
            ],
            "application/vnd.google.colaboratory.intrinsic+json": {
              "type": "string"
            }
          },
          "metadata": {},
          "execution_count": 6
        }
      ]
    },
    {
      "cell_type": "code",
      "source": [],
      "metadata": {
        "id": "nZD3RxIIhWKK"
      },
      "execution_count": null,
      "outputs": []
    },
    {
      "cell_type": "code",
      "source": [
        "# Download MP3 file for example mask off : https://www.youtube.com/watch?v=xvZqHgFz51I"
      ],
      "metadata": {
        "id": "mYNqwV_5hWHb"
      },
      "execution_count": null,
      "outputs": []
    },
    {
      "cell_type": "code",
      "source": [
        "!pip install pytube pydub\n",
        "#!pip install pydub\n"
      ],
      "metadata": {
        "colab": {
          "base_uri": "https://localhost:8080/"
        },
        "id": "V5EloXrrhWFQ",
        "outputId": "a6f5926b-10ee-410b-d29f-498732d70818"
      },
      "execution_count": 1,
      "outputs": [
        {
          "output_type": "stream",
          "name": "stdout",
          "text": [
            "Looking in indexes: https://pypi.org/simple, https://us-python.pkg.dev/colab-wheels/public/simple/\n",
            "Collecting pytube\n",
            "  Downloading pytube-12.1.2-py3-none-any.whl (57 kB)\n",
            "\u001b[2K     \u001b[90m━━━━━━━━━━━━━━━━━━━━━━━━━━━━━━━━━━━━━━━━\u001b[0m \u001b[32m57.0/57.0 KB\u001b[0m \u001b[31m6.8 MB/s\u001b[0m eta \u001b[36m0:00:00\u001b[0m\n",
            "\u001b[?25hCollecting pydub\n",
            "  Downloading pydub-0.25.1-py2.py3-none-any.whl (32 kB)\n",
            "Installing collected packages: pydub, pytube\n",
            "Successfully installed pydub-0.25.1 pytube-12.1.2\n"
          ]
        }
      ]
    },
    {
      "cell_type": "code",
      "source": [
        "\n",
        "from pytube import YouTube\n",
        "from pydub import AudioSegment\n",
        "\n",
        "yt = YouTube(\"https://www.youtube.com/watch?v=xvZqHgFz51I\")\n",
        "video = yt.streams.filter(only_audio=True).first()\n",
        "video.download()"
      ],
      "metadata": {
        "colab": {
          "base_uri": "https://localhost:8080/",
          "height": 35
        },
        "id": "TippKHWmhWED",
        "outputId": "e62ea63d-e2bd-4240-8433-4557fa4d57f7"
      },
      "execution_count": 2,
      "outputs": [
        {
          "output_type": "execute_result",
          "data": {
            "text/plain": [
              "'/content/Future - Mask Off (Official Music Video).mp4'"
            ],
            "application/vnd.google.colaboratory.intrinsic+json": {
              "type": "string"
            }
          },
          "metadata": {},
          "execution_count": 2
        }
      ]
    },
    {
      "cell_type": "code",
      "source": [
        "# Now, let's convert the video file to an MP3 file\n",
        "mp4_file = \"/content/Future - Mask Off (Official Music Video).mp4\"\n",
        "mp3_file = \"/content/Future - Mask Off (Official Music Video).mp3\"\n",
        "\n",
        "AudioSegment.from_file(mp4_file).export(mp3_file, format=\"mp3\")"
      ],
      "metadata": {
        "colab": {
          "base_uri": "https://localhost:8080/"
        },
        "id": "k2RGQlLPhV0T",
        "outputId": "e1c76259-f0c1-4e5c-8b71-a9ad0c49ed48"
      },
      "execution_count": 3,
      "outputs": [
        {
          "output_type": "execute_result",
          "data": {
            "text/plain": [
              "<_io.BufferedRandom name='/content/Future - Mask Off (Official Music Video).mp3'>"
            ]
          },
          "metadata": {},
          "execution_count": 3
        }
      ]
    }
  ]
}