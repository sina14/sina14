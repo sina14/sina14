{
  "nbformat": 4,
  "nbformat_minor": 0,
  "metadata": {
    "colab": {
      "provenance": [],
      "authorship_tag": "ABX9TyPQrqkEcTQqjqckTLKI3mxr",
      "include_colab_link": true
    },
    "kernelspec": {
      "name": "python3",
      "display_name": "Python 3"
    },
    "language_info": {
      "name": "python"
    }
  },
  "cells": [
    {
      "cell_type": "markdown",
      "metadata": {
        "id": "view-in-github",
        "colab_type": "text"
      },
      "source": [
        "<a href=\"https://colab.research.google.com/github/sina14/sina14/blob/main/GeoLocation.ipynb\" target=\"_parent\"><img src=\"https://colab.research.google.com/assets/colab-badge.svg\" alt=\"Open In Colab\"/></a>"
      ]
    },
    {
      "cell_type": "code",
      "execution_count": 1,
      "metadata": {
        "colab": {
          "base_uri": "https://localhost:8080/"
        },
        "id": "AgfX5oS1cFxf",
        "outputId": "b4e63313-989c-4fc9-c112-46fde56727e5"
      },
      "outputs": [
        {
          "output_type": "stream",
          "name": "stdout",
          "text": [
            "Looking in indexes: https://pypi.org/simple, https://us-python.pkg.dev/colab-wheels/public/simple/\n",
            "Requirement already satisfied: ip2geotools in /usr/local/lib/python3.8/dist-packages (0.1.6)\n",
            "Requirement already satisfied: dicttoxml>=1.7.4 in /usr/local/lib/python3.8/dist-packages (from ip2geotools) (1.7.16)\n",
            "Requirement already satisfied: lazy-object-proxy>=1.3.1 in /usr/local/lib/python3.8/dist-packages (from ip2geotools) (1.9.0)\n",
            "Requirement already satisfied: requests-toolbelt>=0.8.0 in /usr/local/lib/python3.8/dist-packages (from ip2geotools) (0.10.1)\n",
            "Requirement already satisfied: certifi>=2018.10.15 in /usr/local/lib/python3.8/dist-packages (from ip2geotools) (2022.12.7)\n",
            "Requirement already satisfied: pkginfo>=1.4.2 in /usr/local/lib/python3.8/dist-packages (from ip2geotools) (1.9.6)\n",
            "Requirement already satisfied: mccabe>=0.6.1 in /usr/local/lib/python3.8/dist-packages (from ip2geotools) (0.7.0)\n",
            "Requirement already satisfied: astroid>=2.1.0 in /usr/local/lib/python3.8/dist-packages (from ip2geotools) (2.13.2)\n",
            "Requirement already satisfied: pycodestyle>=2.4.0 in /usr/local/lib/python3.8/dist-packages (from ip2geotools) (2.10.0)\n",
            "Requirement already satisfied: geocoder>=1.38.1 in /usr/local/lib/python3.8/dist-packages (from ip2geotools) (1.38.1)\n",
            "Requirement already satisfied: isort>=4.3.4 in /usr/local/lib/python3.8/dist-packages (from ip2geotools) (5.11.4)\n",
            "Requirement already satisfied: webencodings>=0.5.1 in /usr/local/lib/python3.8/dist-packages (from ip2geotools) (0.5.1)\n",
            "Requirement already satisfied: packaging>=18.0 in /usr/local/lib/python3.8/dist-packages (from ip2geotools) (21.3)\n",
            "Requirement already satisfied: pip-review>=1.0 in /usr/local/lib/python3.8/dist-packages (from ip2geotools) (1.3.0)\n",
            "Requirement already satisfied: Pygments>=2.3.0 in /usr/local/lib/python3.8/dist-packages (from ip2geotools) (2.6.1)\n",
            "Requirement already satisfied: pylint>=2.2.0 in /usr/local/lib/python3.8/dist-packages (from ip2geotools) (2.15.10)\n",
            "Requirement already satisfied: bleach>=3.0.2 in /usr/local/lib/python3.8/dist-packages (from ip2geotools) (5.0.1)\n",
            "Requirement already satisfied: Click>=7.0 in /usr/local/lib/python3.8/dist-packages (from ip2geotools) (7.1.2)\n",
            "Requirement already satisfied: ratelim>=0.1.6 in /usr/local/lib/python3.8/dist-packages (from ip2geotools) (0.1.6)\n",
            "Requirement already satisfied: urllib3>=1.24.1 in /usr/local/lib/python3.8/dist-packages (from ip2geotools) (1.26.14)\n",
            "Requirement already satisfied: six>=1.11.0 in /usr/local/lib/python3.8/dist-packages (from ip2geotools) (1.15.0)\n",
            "Requirement already satisfied: cssselect>=1.0.3 in /usr/local/lib/python3.8/dist-packages (from ip2geotools) (1.2.0)\n",
            "Requirement already satisfied: maxminddb>=1.4.1 in /usr/local/lib/python3.8/dist-packages (from ip2geotools) (2.2.0)\n",
            "Requirement already satisfied: typing>=3.6.6 in /usr/local/lib/python3.8/dist-packages (from ip2geotools) (3.7.4.3)\n",
            "Requirement already satisfied: pyparsing>=2.3.0 in /usr/local/lib/python3.8/dist-packages (from ip2geotools) (3.0.9)\n",
            "Requirement already satisfied: lxml>=4.2.5 in /usr/local/lib/python3.8/dist-packages (from ip2geotools) (4.9.2)\n",
            "Requirement already satisfied: wrapt>=1.10.11 in /usr/local/lib/python3.8/dist-packages (from ip2geotools) (1.14.1)\n",
            "Requirement already satisfied: chardet>=3.0.4 in /usr/local/lib/python3.8/dist-packages (from ip2geotools) (4.0.0)\n",
            "Requirement already satisfied: geoip2>=2.9.0 in /usr/local/lib/python3.8/dist-packages (from ip2geotools) (4.6.0)\n",
            "Requirement already satisfied: selenium>=3.141.0 in /usr/local/lib/python3.8/dist-packages (from ip2geotools) (4.7.2)\n",
            "Requirement already satisfied: pyquery>=1.4.0 in /usr/local/lib/python3.8/dist-packages (from ip2geotools) (2.0.0)\n",
            "Requirement already satisfied: tqdm>=4.28.1 in /usr/local/lib/python3.8/dist-packages (from ip2geotools) (4.64.1)\n",
            "Requirement already satisfied: autopep8>=1.4.3 in /usr/local/lib/python3.8/dist-packages (from ip2geotools) (2.0.1)\n",
            "Requirement already satisfied: readme-renderer>=24.0 in /usr/local/lib/python3.8/dist-packages (from ip2geotools) (37.3)\n",
            "Requirement already satisfied: future>=0.17.1 in /usr/local/lib/python3.8/dist-packages (from ip2geotools) (0.18.3)\n",
            "Requirement already satisfied: requests>=2.20.1 in /usr/local/lib/python3.8/dist-packages (from ip2geotools) (2.25.1)\n",
            "Requirement already satisfied: decorator>=4.3.0 in /usr/local/lib/python3.8/dist-packages (from ip2geotools) (4.4.2)\n",
            "Requirement already satisfied: docutils>=0.14 in /usr/local/lib/python3.8/dist-packages (from ip2geotools) (0.16)\n",
            "Requirement already satisfied: twine>=1.12.1 in /usr/local/lib/python3.8/dist-packages (from ip2geotools) (4.0.2)\n",
            "Requirement already satisfied: idna>=2.7 in /usr/local/lib/python3.8/dist-packages (from ip2geotools) (2.10)\n",
            "Requirement already satisfied: typed-ast>=1.1.0 in /usr/local/lib/python3.8/dist-packages (from ip2geotools) (1.5.4)\n",
            "Requirement already satisfied: IP2Location>=8.0.3 in /usr/local/lib/python3.8/dist-packages (from ip2geotools) (8.9.0)\n",
            "Requirement already satisfied: typing-extensions>=4.0.0 in /usr/local/lib/python3.8/dist-packages (from astroid>=2.1.0->ip2geotools) (4.4.0)\n",
            "Requirement already satisfied: tomli in /usr/local/lib/python3.8/dist-packages (from autopep8>=1.4.3->ip2geotools) (2.0.1)\n",
            "Requirement already satisfied: aiohttp<4.0.0,>=3.6.2 in /usr/local/lib/python3.8/dist-packages (from geoip2>=2.9.0->ip2geotools) (3.8.3)\n",
            "Requirement already satisfied: pip in /usr/local/lib/python3.8/dist-packages (from pip-review>=1.0->ip2geotools) (22.0.4)\n",
            "Requirement already satisfied: platformdirs>=2.2.0 in /usr/local/lib/python3.8/dist-packages (from pylint>=2.2.0->ip2geotools) (2.6.2)\n",
            "Requirement already satisfied: tomlkit>=0.10.1 in /usr/local/lib/python3.8/dist-packages (from pylint>=2.2.0->ip2geotools) (0.11.6)\n",
            "Requirement already satisfied: dill>=0.2 in /usr/local/lib/python3.8/dist-packages (from pylint>=2.2.0->ip2geotools) (0.3.6)\n",
            "Requirement already satisfied: trio~=0.17 in /usr/local/lib/python3.8/dist-packages (from selenium>=3.141.0->ip2geotools) (0.22.0)\n",
            "Requirement already satisfied: trio-websocket~=0.9 in /usr/local/lib/python3.8/dist-packages (from selenium>=3.141.0->ip2geotools) (0.9.2)\n",
            "Requirement already satisfied: keyring>=15.1 in /usr/local/lib/python3.8/dist-packages (from twine>=1.12.1->ip2geotools) (23.13.1)\n",
            "Requirement already satisfied: rich>=12.0.0 in /usr/local/lib/python3.8/dist-packages (from twine>=1.12.1->ip2geotools) (13.1.0)\n",
            "Requirement already satisfied: rfc3986>=1.4.0 in /usr/local/lib/python3.8/dist-packages (from twine>=1.12.1->ip2geotools) (2.0.0)\n",
            "Requirement already satisfied: importlib-metadata>=3.6 in /usr/local/lib/python3.8/dist-packages (from twine>=1.12.1->ip2geotools) (6.0.0)\n",
            "Requirement already satisfied: multidict<7.0,>=4.5 in /usr/local/lib/python3.8/dist-packages (from aiohttp<4.0.0,>=3.6.2->geoip2>=2.9.0->ip2geotools) (6.0.4)\n",
            "Requirement already satisfied: charset-normalizer<3.0,>=2.0 in /usr/local/lib/python3.8/dist-packages (from aiohttp<4.0.0,>=3.6.2->geoip2>=2.9.0->ip2geotools) (2.1.1)\n",
            "Requirement already satisfied: async-timeout<5.0,>=4.0.0a3 in /usr/local/lib/python3.8/dist-packages (from aiohttp<4.0.0,>=3.6.2->geoip2>=2.9.0->ip2geotools) (4.0.2)\n",
            "Requirement already satisfied: attrs>=17.3.0 in /usr/local/lib/python3.8/dist-packages (from aiohttp<4.0.0,>=3.6.2->geoip2>=2.9.0->ip2geotools) (22.2.0)\n",
            "Requirement already satisfied: yarl<2.0,>=1.0 in /usr/local/lib/python3.8/dist-packages (from aiohttp<4.0.0,>=3.6.2->geoip2>=2.9.0->ip2geotools) (1.8.2)\n",
            "Requirement already satisfied: aiosignal>=1.1.2 in /usr/local/lib/python3.8/dist-packages (from aiohttp<4.0.0,>=3.6.2->geoip2>=2.9.0->ip2geotools) (1.3.1)\n",
            "Requirement already satisfied: frozenlist>=1.1.1 in /usr/local/lib/python3.8/dist-packages (from aiohttp<4.0.0,>=3.6.2->geoip2>=2.9.0->ip2geotools) (1.3.3)\n",
            "Requirement already satisfied: zipp>=0.5 in /usr/local/lib/python3.8/dist-packages (from importlib-metadata>=3.6->twine>=1.12.1->ip2geotools) (3.11.0)\n",
            "Requirement already satisfied: jeepney>=0.4.2 in /usr/local/lib/python3.8/dist-packages (from keyring>=15.1->twine>=1.12.1->ip2geotools) (0.8.0)\n",
            "Requirement already satisfied: SecretStorage>=3.2 in /usr/local/lib/python3.8/dist-packages (from keyring>=15.1->twine>=1.12.1->ip2geotools) (3.3.3)\n",
            "Requirement already satisfied: jaraco.classes in /usr/local/lib/python3.8/dist-packages (from keyring>=15.1->twine>=1.12.1->ip2geotools) (3.2.3)\n",
            "Requirement already satisfied: importlib-resources in /usr/local/lib/python3.8/dist-packages (from keyring>=15.1->twine>=1.12.1->ip2geotools) (5.10.2)\n",
            "Requirement already satisfied: commonmark<0.10.0,>=0.9.0 in /usr/local/lib/python3.8/dist-packages (from rich>=12.0.0->twine>=1.12.1->ip2geotools) (0.9.1)\n",
            "Requirement already satisfied: sniffio in /usr/local/lib/python3.8/dist-packages (from trio~=0.17->selenium>=3.141.0->ip2geotools) (1.3.0)\n",
            "Requirement already satisfied: exceptiongroup>=1.0.0rc9 in /usr/local/lib/python3.8/dist-packages (from trio~=0.17->selenium>=3.141.0->ip2geotools) (1.1.0)\n",
            "Requirement already satisfied: sortedcontainers in /usr/local/lib/python3.8/dist-packages (from trio~=0.17->selenium>=3.141.0->ip2geotools) (2.4.0)\n",
            "Requirement already satisfied: outcome in /usr/local/lib/python3.8/dist-packages (from trio~=0.17->selenium>=3.141.0->ip2geotools) (1.2.0)\n",
            "Requirement already satisfied: async-generator>=1.9 in /usr/local/lib/python3.8/dist-packages (from trio~=0.17->selenium>=3.141.0->ip2geotools) (1.10)\n",
            "Requirement already satisfied: wsproto>=0.14 in /usr/local/lib/python3.8/dist-packages (from trio-websocket~=0.9->selenium>=3.141.0->ip2geotools) (1.2.0)\n",
            "Requirement already satisfied: PySocks!=1.5.7,<2.0,>=1.5.6 in /usr/local/lib/python3.8/dist-packages (from urllib3>=1.24.1->ip2geotools) (1.7.1)\n",
            "Requirement already satisfied: cryptography>=2.0 in /usr/local/lib/python3.8/dist-packages (from SecretStorage>=3.2->keyring>=15.1->twine>=1.12.1->ip2geotools) (39.0.0)\n",
            "Requirement already satisfied: h11<1,>=0.9.0 in /usr/local/lib/python3.8/dist-packages (from wsproto>=0.14->trio-websocket~=0.9->selenium>=3.141.0->ip2geotools) (0.14.0)\n",
            "Requirement already satisfied: more-itertools in /usr/local/lib/python3.8/dist-packages (from jaraco.classes->keyring>=15.1->twine>=1.12.1->ip2geotools) (9.0.0)\n",
            "Requirement already satisfied: cffi>=1.12 in /usr/local/lib/python3.8/dist-packages (from cryptography>=2.0->SecretStorage>=3.2->keyring>=15.1->twine>=1.12.1->ip2geotools) (1.15.1)\n",
            "Requirement already satisfied: pycparser in /usr/local/lib/python3.8/dist-packages (from cffi>=1.12->cryptography>=2.0->SecretStorage>=3.2->keyring>=15.1->twine>=1.12.1->ip2geotools) (2.21)\n"
          ]
        }
      ],
      "source": [
        "!pip install ip2geotools"
      ]
    },
    {
      "cell_type": "code",
      "source": [
        "import socket"
      ],
      "metadata": {
        "id": "lPT1Zq5EcTu0"
      },
      "execution_count": 2,
      "outputs": []
    },
    {
      "cell_type": "code",
      "source": [
        "from ip2geotools.databases.noncommercial import DbIpCity"
      ],
      "metadata": {
        "id": "P0bJxbL6cTr3"
      },
      "execution_count": 3,
      "outputs": []
    },
    {
      "cell_type": "code",
      "source": [
        "url = input(\"Input a URL: \")\n",
        "IP = socket.gethostbyname(url)\n",
        "response = DbIpCity.get(IP, api_key='free')"
      ],
      "metadata": {
        "colab": {
          "base_uri": "https://localhost:8080/"
        },
        "id": "E3JuJ6VUcTok",
        "outputId": "cb1339e9-b8c7-4040-ae22-8f4efa2cbf7b"
      },
      "execution_count": 18,
      "outputs": [
        {
          "name": "stdout",
          "output_type": "stream",
          "text": [
            "Input a URL: www.cncf.org\n"
          ]
        }
      ]
    },
    {
      "cell_type": "code",
      "source": [
        "print(\"IP: \", IP)\n",
        "print(\"City: \", response.city)\n",
        "print(\"Region: \", response.region)\n",
        "print(\"Country: \", response.country)"
      ],
      "metadata": {
        "colab": {
          "base_uri": "https://localhost:8080/"
        },
        "id": "cBQbX8bjcTd-",
        "outputId": "758f1eb1-c411-4d80-871e-dd19714b00c3"
      },
      "execution_count": 19,
      "outputs": [
        {
          "output_type": "stream",
          "name": "stdout",
          "text": [
            "IP:  139.59.112.81\n",
            "City:  Singapore (Pioneer)\n",
            "Region:  None\n",
            "Country:  SG\n"
          ]
        }
      ]
    },
    {
      "cell_type": "code",
      "source": [
        "print(response)"
      ],
      "metadata": {
        "colab": {
          "base_uri": "https://localhost:8080/"
        },
        "id": "pKpl5xfNcYD9",
        "outputId": "822d05e6-acf9-45a0-dab2-791cc3fdd6f6"
      },
      "execution_count": 20,
      "outputs": [
        {
          "output_type": "stream",
          "name": "stdout",
          "text": [
            "139.59.112.81\n",
            "Singapore (Pioneer)\n",
            "None\n",
            "SG\n",
            "1.3182547\n",
            "103.68677300983396\n"
          ]
        }
      ]
    },
    {
      "cell_type": "code",
      "source": [],
      "metadata": {
        "id": "vSkvHpBUcX_q"
      },
      "execution_count": null,
      "outputs": []
    },
    {
      "cell_type": "code",
      "source": [],
      "metadata": {
        "id": "b5UBz7NPcX7f"
      },
      "execution_count": null,
      "outputs": []
    },
    {
      "cell_type": "code",
      "source": [],
      "metadata": {
        "id": "PTJ3-OOFcX01"
      },
      "execution_count": null,
      "outputs": []
    },
    {
      "cell_type": "code",
      "source": [],
      "metadata": {
        "id": "RM_qfMMicXrN"
      },
      "execution_count": null,
      "outputs": []
    }
  ]
}