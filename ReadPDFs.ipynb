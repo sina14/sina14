{
  "nbformat": 4,
  "nbformat_minor": 0,
  "metadata": {
    "colab": {
      "provenance": [],
      "authorship_tag": "ABX9TyM/7yGxb3MfevoTvqAXJh9Q",
      "include_colab_link": true
    },
    "kernelspec": {
      "name": "python3",
      "display_name": "Python 3"
    },
    "language_info": {
      "name": "python"
    }
  },
  "cells": [
    {
      "cell_type": "markdown",
      "metadata": {
        "id": "view-in-github",
        "colab_type": "text"
      },
      "source": [
        "<a href=\"https://colab.research.google.com/github/sina14/sina14/blob/main/ReadPDFs.ipynb\" target=\"_parent\"><img src=\"https://colab.research.google.com/assets/colab-badge.svg\" alt=\"Open In Colab\"/></a>"
      ]
    },
    {
      "cell_type": "code",
      "execution_count": 1,
      "metadata": {
        "colab": {
          "base_uri": "https://localhost:8080/"
        },
        "id": "smn6t4ELP-5q",
        "outputId": "f9edbed9-cdb2-4727-afd0-99dd4ed4103e"
      },
      "outputs": [
        {
          "output_type": "stream",
          "name": "stdout",
          "text": [
            "Looking in indexes: https://pypi.org/simple, https://us-python.pkg.dev/colab-wheels/public/simple/\n",
            "Collecting PyPDF2\n",
            "  Downloading pypdf2-3.0.0-py3-none-any.whl (232 kB)\n",
            "\u001b[K     |████████████████████████████████| 232 kB 6.4 MB/s \n",
            "\u001b[?25hRequirement already satisfied: typing_extensions>=3.10.0.0 in /usr/local/lib/python3.8/dist-packages (from PyPDF2) (4.4.0)\n",
            "Installing collected packages: PyPDF2\n",
            "Successfully installed PyPDF2-3.0.0\n"
          ]
        }
      ],
      "source": [
        "!pip install PyPDF2"
      ]
    },
    {
      "cell_type": "code",
      "source": [
        "from PyPDF2 import PdfReader\n",
        "import re\n",
        "\n",
        "reader = PdfReader(\"sample.pdf\")\n",
        "text = \"\"\n",
        "for page in reader.pages:\n",
        "    text += page.extract_text() + \"\\n\"\n",
        "    \n",
        "barcode = r'RL.*'\n",
        "\n",
        "try:\n",
        "    \n",
        "    found = re.findall(barcode, text, flags=re.IGNORECASE)\n",
        "    \n",
        "except AttributeError:\n",
        "    \n",
        "    found = '- #NotFound' \n",
        "\n",
        "print(\"---------------------------------------------\")\n",
        "\n",
        "for txt in found:\n",
        "    print(txt)\n",
        "#print(text)\n",
        "\n",
        "print(\"---------------------------------------------\")\n"
      ],
      "metadata": {
        "colab": {
          "base_uri": "https://localhost:8080/"
        },
        "id": "OMe4HBlKQJLU",
        "outputId": "ecf86e9d-ec72-408b-ac04-eb03708b871a"
      },
      "execution_count": 3,
      "outputs": [
        {
          "output_type": "stream",
          "name": "stdout",
          "text": [
            "---------------------------------------------\n",
            "RL 1607 8425 0GB\n",
            "RL 1607 8426 3GB\n",
            "RL 1607 8427 7GB\n",
            "RL 1607 8428 5GB\n",
            "---------------------------------------------\n"
          ]
        }
      ]
    },
    {
      "cell_type": "code",
      "source": [],
      "metadata": {
        "id": "OnDw6E9OQJMn"
      },
      "execution_count": null,
      "outputs": []
    },
    {
      "cell_type": "code",
      "source": [],
      "metadata": {
        "id": "zP5PIqy_QJfE"
      },
      "execution_count": null,
      "outputs": []
    },
    {
      "cell_type": "code",
      "source": [],
      "metadata": {
        "id": "QtRiFRhOQJoE"
      },
      "execution_count": null,
      "outputs": []
    },
    {
      "cell_type": "code",
      "source": [],
      "metadata": {
        "id": "I4o5mGFeQJvN"
      },
      "execution_count": null,
      "outputs": []
    }
  ]
}